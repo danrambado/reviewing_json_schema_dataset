{
 "cells": [
  {
   "cell_type": "code",
   "execution_count": 1,
   "metadata": {},
   "outputs": [
    {
     "name": "stdout",
     "output_type": "stream",
     "text": [
      "<class 'pandas.core.frame.DataFrame'>\n",
      "RangeIndex: 312 entries, 0 to 311\n",
      "Data columns (total 42 columns):\n",
      " #   Column                                           Non-Null Count  Dtype  \n",
      "---  ------                                           --------------  -----  \n",
      " 0   LAST_ATTEMPTER_NAME                              312 non-null    object \n",
      " 1   LAST_ATTEMPTER_EMAIL                             312 non-null    object \n",
      " 2   FIRST_ATTEMPTER_NAME                             312 non-null    object \n",
      " 3   FIRST_ATTEMPTER_EMAIL                            312 non-null    object \n",
      " 4   ATTEMPT_COUNT                                    312 non-null    int64  \n",
      " 5   ATTEMPTERS_LIST_MAIL                             312 non-null    object \n",
      " 6   REVIEW_LEVEL                                     312 non-null    int64  \n",
      " 7   STATUS                                           312 non-null    object \n",
      " 8   ATTEMPTED_AT                                     312 non-null    object \n",
      " 9   ATTEMPTED_AT_DATE                                312 non-null    object \n",
      " 10  TASK_ID                                          312 non-null    object \n",
      " 11  ATTEMPT_ID                                       312 non-null    object \n",
      " 12  REVIEW_STATUS                                    312 non-null    object \n",
      " 13  INTERNAL_ID                                      312 non-null    object \n",
      " 14  prompt                                           312 non-null    object \n",
      " 15  schema                                           312 non-null    object \n",
      " 16  REFERENCED_JSON                                  312 non-null    object \n",
      " 17  SUMMARY                                          312 non-null    object \n",
      " 18  PROMPT_PII                                       309 non-null    object \n",
      " 19  PROMPT_PII_JUST                                  161 non-null    object \n",
      " 20  SUFFICIENT_INFORMATION                           309 non-null    object \n",
      " 21  SUFFICIENT_INFORMATION_JUST                      42 non-null     object \n",
      " 22  SCHEMA_RELATED                                   309 non-null    object \n",
      " 23  SCHEMA_PROMPT_CHANGES                            225 non-null    object \n",
      " 24  SCHEMA_RELATED_JUST                              225 non-null    object \n",
      " 25  OTHER_PROMPT_ISSUES                              309 non-null    object \n",
      " 26  OTHER_ISSUES_JUST                                2 non-null      object \n",
      " 27  LLM_ACCURACY                                     309 non-null    object \n",
      " 28  LLM_ACCURACY_JUST                                108 non-null    object \n",
      " 29  COMPLEX_FIXING                                   309 non-null    object \n",
      " 30  FIXED_PROMPT                                     138 non-null    object \n",
      " 31  CH_PROMPT                                        138 non-null    object \n",
      " 32  EVAL_1_COMPLEX_FIXING_YES_AND_NO_CHANGES_PROMPT  309 non-null    object \n",
      " 33  REFERENCED_JSON_FORMATED                         312 non-null    object \n",
      " 34  summary_json                                     312 non-null    object \n",
      " 35  summary                                          312 non-null    object \n",
      " 36  score_reference                                  312 non-null    float64\n",
      " 37  schema_properties                                312 non-null    int64  \n",
      " 38  missing_properties                               312 non-null    int64  \n",
      " 39  referenced_false                                 312 non-null    int64  \n",
      " 40  referenced_true                                  312 non-null    int64  \n",
      " 41  accuracy                                         312 non-null    float64\n",
      "dtypes: float64(2), int64(6), object(34)\n",
      "memory usage: 102.5+ KB\n"
     ]
    }
   ],
   "source": [
    "import pandas as pd\n",
    "df = pd.read_csv(\"../output/batch_063_eval_L0_mar08/01_output.csv\")\n",
    "\n",
    "df.info()"
   ]
  },
  {
   "cell_type": "code",
   "execution_count": 7,
   "metadata": {},
   "outputs": [
    {
     "data": {
      "text/plain": [
       "Priority\n",
       "3    164\n",
       "1     28\n",
       "2     20\n",
       "Name: count, dtype: int64"
      ]
     },
     "execution_count": 7,
     "metadata": {},
     "output_type": "execute_result"
    }
   ],
   "source": [
    "df=df[df['accuracy']>0.9]\n",
    "# Create new column Priority with values\n",
    "# - 1 if df['score_reference']==1\n",
    "# - 2 if df['score_reference']<0.6\n",
    "# - 3 if 1<df['score_reference']>=0.6\n",
    "\n",
    "df['Priority'] = df['score_reference'].apply(lambda x: 1 if x == 1 else (2 if x < 0.6 else 3))\n",
    "\n",
    "df['Priority'].value_counts()\n",
    "\n"
   ]
  },
  {
   "cell_type": "code",
   "execution_count": 6,
   "metadata": {},
   "outputs": [
    {
     "name": "stdout",
     "output_type": "stream",
     "text": [
      "<class 'pandas.core.frame.DataFrame'>\n",
      "Index: 20 entries, 6 to 309\n",
      "Data columns (total 42 columns):\n",
      " #   Column                                           Non-Null Count  Dtype  \n",
      "---  ------                                           --------------  -----  \n",
      " 0   LAST_ATTEMPTER_NAME                              20 non-null     object \n",
      " 1   LAST_ATTEMPTER_EMAIL                             20 non-null     object \n",
      " 2   FIRST_ATTEMPTER_NAME                             20 non-null     object \n",
      " 3   FIRST_ATTEMPTER_EMAIL                            20 non-null     object \n",
      " 4   ATTEMPT_COUNT                                    20 non-null     int64  \n",
      " 5   ATTEMPTERS_LIST_MAIL                             20 non-null     object \n",
      " 6   REVIEW_LEVEL                                     20 non-null     int64  \n",
      " 7   STATUS                                           20 non-null     object \n",
      " 8   ATTEMPTED_AT                                     20 non-null     object \n",
      " 9   ATTEMPTED_AT_DATE                                20 non-null     object \n",
      " 10  TASK_ID                                          20 non-null     object \n",
      " 11  ATTEMPT_ID                                       20 non-null     object \n",
      " 12  REVIEW_STATUS                                    20 non-null     object \n",
      " 13  INTERNAL_ID                                      20 non-null     object \n",
      " 14  prompt                                           20 non-null     object \n",
      " 15  schema                                           20 non-null     object \n",
      " 16  REFERENCED_JSON                                  20 non-null     object \n",
      " 17  SUMMARY                                          20 non-null     object \n",
      " 18  PROMPT_PII                                       20 non-null     object \n",
      " 19  PROMPT_PII_JUST                                  10 non-null     object \n",
      " 20  SUFFICIENT_INFORMATION                           20 non-null     object \n",
      " 21  SUFFICIENT_INFORMATION_JUST                      1 non-null      object \n",
      " 22  SCHEMA_RELATED                                   20 non-null     object \n",
      " 23  SCHEMA_PROMPT_CHANGES                            19 non-null     object \n",
      " 24  SCHEMA_RELATED_JUST                              19 non-null     object \n",
      " 25  OTHER_PROMPT_ISSUES                              20 non-null     object \n",
      " 26  OTHER_ISSUES_JUST                                0 non-null      object \n",
      " 27  LLM_ACCURACY                                     20 non-null     object \n",
      " 28  LLM_ACCURACY_JUST                                7 non-null      object \n",
      " 29  COMPLEX_FIXING                                   20 non-null     object \n",
      " 30  FIXED_PROMPT                                     2 non-null      object \n",
      " 31  CH_PROMPT                                        2 non-null      object \n",
      " 32  EVAL_1_COMPLEX_FIXING_YES_AND_NO_CHANGES_PROMPT  20 non-null     object \n",
      " 33  REFERENCED_JSON_FORMATED                         20 non-null     object \n",
      " 34  summary_json                                     20 non-null     object \n",
      " 35  summary                                          20 non-null     object \n",
      " 36  score_reference                                  20 non-null     float64\n",
      " 37  schema_properties                                20 non-null     int64  \n",
      " 38  missing_properties                               20 non-null     int64  \n",
      " 39  referenced_false                                 20 non-null     int64  \n",
      " 40  referenced_true                                  20 non-null     int64  \n",
      " 41  accuracy                                         20 non-null     float64\n",
      "dtypes: float64(2), int64(6), object(34)\n",
      "memory usage: 6.7+ KB\n"
     ]
    }
   ],
   "source": [
    "df_bottom=df[df['score_reference']<0.6]\n",
    "df_bottom.info()"
   ]
  }
 ],
 "metadata": {
  "kernelspec": {
   "display_name": "Python 3",
   "language": "python",
   "name": "python3"
  },
  "language_info": {
   "codemirror_mode": {
    "name": "ipython",
    "version": 3
   },
   "file_extension": ".py",
   "mimetype": "text/x-python",
   "name": "python",
   "nbconvert_exporter": "python",
   "pygments_lexer": "ipython3",
   "version": "3.9.6"
  }
 },
 "nbformat": 4,
 "nbformat_minor": 2
}
