{
 "cells": [
  {
   "cell_type": "code",
   "execution_count": 9,
   "metadata": {},
   "outputs": [],
   "source": [
    "import pandas as pd\n",
    "import os\n",
    "\n",
    "# load data\n",
    "df = pd.read_csv('../data/full_dataset/cleaned_pipeline_tasks.csv')\n",
    "\n",
    "\n",
    "\n",
    "\n",
    "# df = df.iloc[200:300]\n",
    "\n",
    "# # Create the output directory if it doesn't exist\n",
    "# output_dir = '../output/batch_004_L-1_200-300'\n",
    "# os.makedirs(output_dir, exist_ok=True)\n",
    "\n",
    "# # save to csv\n",
    "# df.to_csv(f'{output_dir}/00_seed_200_300.csv', index=False)"
   ]
  },
  {
   "cell_type": "code",
   "execution_count": null,
   "metadata": {},
   "outputs": [
    {
     "name": "stdout",
     "output_type": "stream",
     "text": [
      "(981, 9)\n",
      "Saved batch 0 to 100\n",
      "Saved batch 100 to 200\n",
      "Saved batch 200 to 300\n",
      "Saved batch 300 to 400\n",
      "Saved batch 400 to 500\n",
      "Saved batch 500 to 600\n",
      "Saved batch 600 to 700\n",
      "Saved batch 700 to 800\n",
      "Saved batch 800 to 900\n",
      "Saved batch 900 to 1000\n"
     ]
    }
   ],
   "source": [
    "import pandas as pd\n",
    "import os\n",
    "\n",
    "# load data\n",
    "df = pd.read_csv('../data/full_dataset/cleaned_pipeline_tasks.csv')\n",
    "\n",
    "# remove the rows with \"TASK_ID\" empty\n",
    "df = df.dropna(subset=['TASK_ID'])\n",
    "\n",
    "print(df.shape)\n",
    "\n",
    "# Create the output directory if it doesn't exist\n",
    "output_dir = '../output/w'\n",
    "os.makedirs(output_dir, exist_ok=True)\n",
    "\n",
    "\n",
    "# save to csv by batches of 100 with the name 00_seed_0_100.csv, 00_seed_100_200.csv, etc.\n",
    "batch_size = 100\n",
    "for i in range(0, len(df), batch_size):\n",
    "    df_batch = df.iloc[i:i + batch_size]\n",
    "    df_batch.to_csv(f'{output_dir}/00_seed_{i}_{i + batch_size}.csv', index=False)\n",
    "    print(f'Saved batch {i} to {i + batch_size}')"
   ]
  },
  {
   "cell_type": "code",
   "execution_count": 8,
   "metadata": {},
   "outputs": [
    {
     "data": {
      "application/vnd.microsoft.datawrangler.viewer.v0+json": {
       "columns": [
        {
         "name": "index",
         "rawType": "int64",
         "type": "integer"
        },
        {
         "name": "languageCode",
         "rawType": "object",
         "type": "string"
        },
        {
         "name": "INTERNAL_ID",
         "rawType": "object",
         "type": "string"
        },
        {
         "name": "CUSTOMER_ID",
         "rawType": "object",
         "type": "string"
        },
        {
         "name": "PARSED_CUST_ID",
         "rawType": "int64",
         "type": "integer"
        },
        {
         "name": "TASK_ID",
         "rawType": "object",
         "type": "string"
        },
        {
         "name": "BATCH_ID",
         "rawType": "object",
         "type": "string"
        },
        {
         "name": "prompt",
         "rawType": "object",
         "type": "string"
        },
        {
         "name": "schema",
         "rawType": "object",
         "type": "string"
        },
        {
         "name": "response",
         "rawType": "object",
         "type": "string"
        }
       ],
       "conversionMethod": "pd.DataFrame",
       "ref": "3c9cdef9-48b1-41f0-ab1e-2441f9963e0a",
       "rows": [],
       "shape": {
        "columns": 9,
        "rows": 0
       }
      },
      "text/html": [
       "<div>\n",
       "<style scoped>\n",
       "    .dataframe tbody tr th:only-of-type {\n",
       "        vertical-align: middle;\n",
       "    }\n",
       "\n",
       "    .dataframe tbody tr th {\n",
       "        vertical-align: top;\n",
       "    }\n",
       "\n",
       "    .dataframe thead th {\n",
       "        text-align: right;\n",
       "    }\n",
       "</style>\n",
       "<table border=\"1\" class=\"dataframe\">\n",
       "  <thead>\n",
       "    <tr style=\"text-align: right;\">\n",
       "      <th></th>\n",
       "      <th>languageCode</th>\n",
       "      <th>INTERNAL_ID</th>\n",
       "      <th>CUSTOMER_ID</th>\n",
       "      <th>PARSED_CUST_ID</th>\n",
       "      <th>TASK_ID</th>\n",
       "      <th>BATCH_ID</th>\n",
       "      <th>prompt</th>\n",
       "      <th>schema</th>\n",
       "      <th>response</th>\n",
       "    </tr>\n",
       "  </thead>\n",
       "  <tbody>\n",
       "  </tbody>\n",
       "</table>\n",
       "</div>"
      ],
      "text/plain": [
       "Empty DataFrame\n",
       "Columns: [languageCode, INTERNAL_ID, CUSTOMER_ID, PARSED_CUST_ID, TASK_ID, BATCH_ID, prompt, schema, response]\n",
       "Index: []"
      ]
     },
     "execution_count": 8,
     "metadata": {},
     "output_type": "execute_result"
    }
   ],
   "source": [
    "# keep the rows with \"TASK_ID\" empty\n",
    "df = df[df['TASK_ID'].isnull()]\n",
    "df"
   ]
  },
  {
   "cell_type": "code",
   "execution_count": null,
   "metadata": {},
   "outputs": [
    {
     "name": "stderr",
     "output_type": "stream",
     "text": [
      "/var/folders/2m/gfwst2wd13s6jr7jgb264kyc0000gp/T/ipykernel_37159/3921131492.py:11: FutureWarning: A value is trying to be set on a copy of a DataFrame or Series through chained assignment using an inplace method.\n",
      "The behavior will change in pandas 3.0. This inplace method will never work because the intermediate object on which we are setting values always behaves as a copy.\n",
      "\n",
      "For example, when doing 'df[col].method(value, inplace=True)', try using 'df.method({col: value}, inplace=True)' or df[col] = df[col].method(value) instead, to perform the operation inplace on the original object.\n",
      "\n",
      "\n",
      "  df['prompt'].fillna(df['ORIGINAL_PROMPT'], inplace=True)\n"
     ]
    }
   ],
   "source": [
    "# import pandas as pd\n",
    "# import os\n",
    "\n",
    "# # load data\n",
    "# df = pd.read_csv('../output/L10_feb27_3pm/L10_feb27_3pm.csv')\n",
    "\n",
    "# df['schema'] = df['SCHEMA']\n",
    "\n",
    "# # if FIXED_PROMPT is not empty, use it as prompt, otherwise use ORIGINAL_PROMPT\n",
    "# df['prompt'] = df['FIXED_PROMPT']\n",
    "# df['prompt'].fillna(df['ORIGINAL_PROMPT'], inplace=True)\n",
    "\n",
    "# # create the path if not exist\n",
    "# path = '../output/L10_feb27_3pm/'\n",
    "# os.makedirs(path, exist_ok=True)\n",
    "\n",
    "# # save to csv\n",
    "# df.to_csv(f'{path}00_seed.csv', index=False)"
   ]
  }
 ],
 "metadata": {
  "kernelspec": {
   "display_name": ".venv",
   "language": "python",
   "name": "python3"
  },
  "language_info": {
   "codemirror_mode": {
    "name": "ipython",
    "version": 3
   },
   "file_extension": ".py",
   "mimetype": "text/x-python",
   "name": "python",
   "nbconvert_exporter": "python",
   "pygments_lexer": "ipython3",
   "version": "3.13.1"
  }
 },
 "nbformat": 4,
 "nbformat_minor": 2
}
